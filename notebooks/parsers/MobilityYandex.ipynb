{
 "cells": [
  {
   "cell_type": "code",
   "execution_count": 1,
   "metadata": {},
   "outputs": [
    {
     "name": "stdout",
     "output_type": "stream",
     "text": [
      "/home/tyz910/src/sberbank-covid19\n"
     ]
    }
   ],
   "source": [
    "cd '../..'"
   ]
  },
  {
   "cell_type": "code",
   "execution_count": 2,
   "metadata": {},
   "outputs": [],
   "source": [
    "import re\n",
    "import json\n",
    "import requests\n",
    "import pandas as pd\n",
    "from datetime import datetime\n",
    "\n",
    "countries = pd.read_csv('data/countries.csv')\n",
    "city_map = {row['region_center']: row['country'] for i, row in countries[countries['is_region'] == 1].iterrows()}\n",
    "\n",
    "body = requests.get('https://yandex.ru/web-maps/covid19/isolation').content\n",
    "data = json.loads(re.compile(r'class=\"config-view\">(.+?)<').search(body.decode('utf-8'))[1])"
   ]
  },
  {
   "cell_type": "code",
   "execution_count": 3,
   "metadata": {},
   "outputs": [
    {
     "data": {
      "text/html": [
       "<div>\n",
       "<style scoped>\n",
       "    .dataframe tbody tr th:only-of-type {\n",
       "        vertical-align: middle;\n",
       "    }\n",
       "\n",
       "    .dataframe tbody tr th {\n",
       "        vertical-align: top;\n",
       "    }\n",
       "\n",
       "    .dataframe thead th {\n",
       "        text-align: right;\n",
       "    }\n",
       "</style>\n",
       "<table border=\"1\" class=\"dataframe\">\n",
       "  <thead>\n",
       "    <tr style=\"text-align: right;\">\n",
       "      <th></th>\n",
       "      <th>date</th>\n",
       "      <th>country</th>\n",
       "      <th>isolation</th>\n",
       "    </tr>\n",
       "  </thead>\n",
       "  <tbody>\n",
       "    <tr>\n",
       "      <th>0</th>\n",
       "      <td>2020-02-23</td>\n",
       "      <td>RU-SPE</td>\n",
       "      <td>2.5</td>\n",
       "    </tr>\n",
       "    <tr>\n",
       "      <th>1</th>\n",
       "      <td>2020-02-24</td>\n",
       "      <td>RU-SPE</td>\n",
       "      <td>2.6</td>\n",
       "    </tr>\n",
       "    <tr>\n",
       "      <th>2</th>\n",
       "      <td>2020-02-25</td>\n",
       "      <td>RU-SPE</td>\n",
       "      <td>0.4</td>\n",
       "    </tr>\n",
       "    <tr>\n",
       "      <th>3</th>\n",
       "      <td>2020-02-26</td>\n",
       "      <td>RU-SPE</td>\n",
       "      <td>0.4</td>\n",
       "    </tr>\n",
       "    <tr>\n",
       "      <th>4</th>\n",
       "      <td>2020-02-27</td>\n",
       "      <td>RU-SPE</td>\n",
       "      <td>0.4</td>\n",
       "    </tr>\n",
       "  </tbody>\n",
       "</table>\n",
       "</div>"
      ],
      "text/plain": [
       "         date country  isolation\n",
       "0  2020-02-23  RU-SPE        2.5\n",
       "1  2020-02-24  RU-SPE        2.6\n",
       "2  2020-02-25  RU-SPE        0.4\n",
       "3  2020-02-26  RU-SPE        0.4\n",
       "4  2020-02-27  RU-SPE        0.4"
      ]
     },
     "execution_count": 3,
     "metadata": {},
     "output_type": "execute_result"
    }
   ],
   "source": [
    "def ts_to_date(ts):\n",
    "    return datetime.utcfromtimestamp(ts + 3 * 60 * 60).strftime('%Y-%m-%d')\n",
    "\n",
    "\n",
    "result = []\n",
    "\n",
    "for c in data['covidData']['cities']:\n",
    "    if c['name'] in city_map:\n",
    "        country = city_map[c['name']]\n",
    "        result.append(\n",
    "            pd.DataFrame(\n",
    "                [[ts_to_date(r['ts']), country, r['value']] for r in c['histogramDays']], \n",
    "                columns=['date', 'country', 'isolation'],\n",
    "            )\n",
    "        )\n",
    "\n",
    "result = pd.concat(result).reset_index(drop=True)\n",
    "result.to_csv('data/mobility-yandex.csv', index=False)\n",
    "result.head()"
   ]
  }
 ],
 "metadata": {
  "kernelspec": {
   "display_name": "Python 3",
   "language": "python",
   "name": "python3"
  },
  "language_info": {
   "codemirror_mode": {
    "name": "ipython",
    "version": 3
   },
   "file_extension": ".py",
   "mimetype": "text/x-python",
   "name": "python",
   "nbconvert_exporter": "python",
   "pygments_lexer": "ipython3",
   "version": "3.6.10"
  }
 },
 "nbformat": 4,
 "nbformat_minor": 4
}
