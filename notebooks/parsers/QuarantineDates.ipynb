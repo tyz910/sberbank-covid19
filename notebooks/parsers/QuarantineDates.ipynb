{
 "cells": [
  {
   "cell_type": "code",
   "execution_count": 1,
   "metadata": {},
   "outputs": [
    {
     "name": "stdout",
     "output_type": "stream",
     "text": [
      "/home/tyz910/src/sberbank-covid19\n"
     ]
    }
   ],
   "source": [
    "%cd '../..'"
   ]
  },
  {
   "cell_type": "code",
   "execution_count": 2,
   "metadata": {},
   "outputs": [],
   "source": [
    "import re\n",
    "import requests\n",
    "import pandas as pd\n",
    "from bs4 import BeautifulSoup\n",
    "\n",
    "countries = pd.read_csv('data/countries.csv')"
   ]
  },
  {
   "cell_type": "code",
   "execution_count": 3,
   "metadata": {},
   "outputs": [],
   "source": [
    "URL = \"https://en.wikipedia.org/wiki/National_responses_to_the_2019%E2%80%9320_coronavirus_pandemic\"\n",
    "page = requests.get(URL)\n",
    "soup = BeautifulSoup(page.text)\n",
    "tables = soup.findAll(\"table\", {\"class\": \"wikitable\"})"
   ]
  },
  {
   "cell_type": "code",
   "execution_count": 4,
   "metadata": {},
   "outputs": [
    {
     "data": {
      "text/html": [
       "<div>\n",
       "<style scoped>\n",
       "    .dataframe tbody tr th:only-of-type {\n",
       "        vertical-align: middle;\n",
       "    }\n",
       "\n",
       "    .dataframe tbody tr th {\n",
       "        vertical-align: top;\n",
       "    }\n",
       "\n",
       "    .dataframe thead th {\n",
       "        text-align: right;\n",
       "    }\n",
       "</style>\n",
       "<table border=\"1\" class=\"dataframe\">\n",
       "  <thead>\n",
       "    <tr style=\"text-align: right;\">\n",
       "      <th></th>\n",
       "      <th>date</th>\n",
       "      <th>level</th>\n",
       "    </tr>\n",
       "    <tr>\n",
       "      <th>country</th>\n",
       "      <th></th>\n",
       "      <th></th>\n",
       "    </tr>\n",
       "  </thead>\n",
       "  <tbody>\n",
       "    <tr>\n",
       "      <th>ALB</th>\n",
       "      <td>2020-03-13</td>\n",
       "      <td>National</td>\n",
       "    </tr>\n",
       "    <tr>\n",
       "      <th>ARE</th>\n",
       "      <td>2020-03-26</td>\n",
       "      <td>National</td>\n",
       "    </tr>\n",
       "    <tr>\n",
       "      <th>ARG</th>\n",
       "      <td>2020-03-19</td>\n",
       "      <td>National</td>\n",
       "    </tr>\n",
       "    <tr>\n",
       "      <th>ARM</th>\n",
       "      <td>2020-03-24</td>\n",
       "      <td>National</td>\n",
       "    </tr>\n",
       "    <tr>\n",
       "      <th>AUS</th>\n",
       "      <td>2020-03-23</td>\n",
       "      <td>National</td>\n",
       "    </tr>\n",
       "    <tr>\n",
       "      <th>...</th>\n",
       "      <td>...</td>\n",
       "      <td>...</td>\n",
       "    </tr>\n",
       "    <tr>\n",
       "      <th>TUN</th>\n",
       "      <td>2020-03-22</td>\n",
       "      <td>National</td>\n",
       "    </tr>\n",
       "    <tr>\n",
       "      <th>UKR</th>\n",
       "      <td>2020-03-17</td>\n",
       "      <td>National</td>\n",
       "    </tr>\n",
       "    <tr>\n",
       "      <th>VEN</th>\n",
       "      <td>2020-03-17</td>\n",
       "      <td>National</td>\n",
       "    </tr>\n",
       "    <tr>\n",
       "      <th>ZAF</th>\n",
       "      <td>2020-03-26</td>\n",
       "      <td>National</td>\n",
       "    </tr>\n",
       "    <tr>\n",
       "      <th>ZWE</th>\n",
       "      <td>2020-03-30</td>\n",
       "      <td>National</td>\n",
       "    </tr>\n",
       "  </tbody>\n",
       "</table>\n",
       "<p>85 rows × 2 columns</p>\n",
       "</div>"
      ],
      "text/plain": [
       "               date     level\n",
       "country                      \n",
       "ALB      2020-03-13  National\n",
       "ARE      2020-03-26  National\n",
       "ARG      2020-03-19  National\n",
       "ARM      2020-03-24  National\n",
       "AUS      2020-03-23  National\n",
       "...             ...       ...\n",
       "TUN      2020-03-22  National\n",
       "UKR      2020-03-17  National\n",
       "VEN      2020-03-17  National\n",
       "ZAF      2020-03-26  National\n",
       "ZWE      2020-03-30  National\n",
       "\n",
       "[85 rows x 2 columns]"
      ]
     },
     "execution_count": 4,
     "metadata": {},
     "output_type": "execute_result"
    }
   ],
   "source": [
    "data = []\n",
    "\n",
    "def get_text(col):\n",
    "    return re.sub(r\"\\[[^]]+\\]\", \"\", col.text.strip())\n",
    "\n",
    "for row in tables[0].findAll(\"tr\"):\n",
    "    columns = row.findAll(\"td\")\n",
    "    if len(columns) < 4:\n",
    "        continue\n",
    "\n",
    "    if len(columns) == 5:\n",
    "        country = get_text(columns[0])\n",
    "        place = get_text(columns[1])\n",
    "        columns = columns[2:]\n",
    "    elif \"colspan\" in columns[0].attrs:\n",
    "        country = get_text(columns[0])\n",
    "        place = \"\"\n",
    "        columns = columns[1:]\n",
    "    else:\n",
    "        place = get_text(columns[0])\n",
    "        columns = columns[1:]\n",
    "        \n",
    "    start = get_text(columns[0])\n",
    "    end = get_text(columns[1])\n",
    "    level = get_text(columns[2])\n",
    "    \n",
    "    data.append([country, place, start, end, level])\n",
    "    \n",
    "df = pd.DataFrame(data, columns=[\"Country\", \"Place\", \"Start date\", \"End date\", \"Level\"])\n",
    "df = pd.merge(df, countries, left_on='Country', right_on='name', how='inner').groupby('country')[['Start date', 'Level']].first()\n",
    "df = df.rename(columns={\n",
    "    'Start date': 'date',\n",
    "    'Level': 'level',\n",
    "})\n",
    "\n",
    "df.to_csv(\"data/quarantine.csv\")\n",
    "df"
   ]
  }
 ],
 "metadata": {
  "kernelspec": {
   "display_name": "Python 3",
   "language": "python",
   "name": "python3"
  },
  "language_info": {
   "codemirror_mode": {
    "name": "ipython",
    "version": 3
   },
   "file_extension": ".py",
   "mimetype": "text/x-python",
   "name": "python",
   "nbconvert_exporter": "python",
   "pygments_lexer": "ipython3",
   "version": "3.6.10"
  }
 },
 "nbformat": 4,
 "nbformat_minor": 4
}
