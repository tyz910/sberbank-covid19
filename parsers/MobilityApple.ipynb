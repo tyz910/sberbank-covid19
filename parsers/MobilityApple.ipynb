{
 "cells": [
  {
   "cell_type": "code",
   "execution_count": 3,
   "metadata": {},
   "outputs": [],
   "source": [
    "import pandas as pd\n",
    "\n",
    "URL = 'https://covid19-static.cdn-apple.com/covid19-mobility-data/2006HotfixDev6/v1/en-us/applemobilitytrends-2020-04-15.csv'\n",
    "countries = pd.read_csv('../data/countries.csv', na_filter=False)\n",
    "\n",
    "df = pd.read_csv(URL)\n",
    "df = df[df['geo_type'] == 'country/region']\n",
    "df = df[df['region'].isin(countries['name'])]\n",
    "df = df.drop(columns=['geo_type'])\n",
    "df = df.groupby(['region', 'transportation_type']).first().stack().unstack(1).reset_index()\n",
    "df = df.rename(columns={\n",
    "    'level_1': 'date',\n",
    "    'driving': 'apl-driving',\n",
    "    'transit': 'apl-transit',\n",
    "    'walking': 'apl-walking',\n",
    "})\n",
    "df = pd.merge(df, countries, left_on='region', right_on='name')[['date', 'country', 'apl-driving', 'apl-transit', 'apl-walking']]\n",
    "df.to_csv('../data/mobility-apple.csv', index=False)"
   ]
  }
 ],
 "metadata": {
  "kernelspec": {
   "display_name": "Python 3",
   "language": "python",
   "name": "python3"
  },
  "language_info": {
   "codemirror_mode": {
    "name": "ipython",
    "version": 3
   },
   "file_extension": ".py",
   "mimetype": "text/x-python",
   "name": "python",
   "nbconvert_exporter": "python",
   "pygments_lexer": "ipython3",
   "version": "3.7.7"
  }
 },
 "nbformat": 4,
 "nbformat_minor": 4
}
