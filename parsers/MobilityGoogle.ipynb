{
 "cells": [
  {
   "cell_type": "code",
   "execution_count": 1,
   "metadata": {},
   "outputs": [],
   "source": [
    "import urllib\n",
    "import pandas as pd\n",
    "from tqdm import tqdm\n",
    "\n",
    "\n",
    "def read_csv_from_url(url):\n",
    "    try:\n",
    "        return pd.read_csv(url)\n",
    "    except urllib.error.HTTPError as e:\n",
    "        if e.status == 404:\n",
    "            return None\n",
    "        raise e\n",
    "\n",
    "\n",
    "countries = pd.read_csv('../data/countries.csv', na_filter=False)"
   ]
  },
  {
   "cell_type": "code",
   "execution_count": 2,
   "metadata": {},
   "outputs": [
    {
     "name": "stderr",
     "output_type": "stream",
     "text": [
      "168it [05:02,  1.80s/it]\n"
     ]
    }
   ],
   "source": [
    "PLACES = ['parks', 'residential', 'retail-and-recreation', 'transit-stations', 'workplaces', 'grocery-and-pharmacy']\n",
    "\n",
    "\n",
    "def google_mobility_by_country(code):\n",
    "    data = []\n",
    "\n",
    "    for place in PLACES:\n",
    "        df = read_csv_from_url(f'https://pastelsky.github.io/covid-19-mobility-tracker/output/{code}/mobility-{place}.csv')\n",
    "        if df is not None:\n",
    "            df = df.rename(columns={'value': place})\n",
    "            data.append(df)\n",
    "    \n",
    "    if data:\n",
    "        return pd.concat(data).groupby('date').first()\n",
    "    else:\n",
    "        return None\n",
    "\n",
    "\n",
    "data = []\n",
    "\n",
    "for i, row in tqdm(countries[countries['iso_alpha2'] != ''][['country', 'iso_alpha2']].iterrows()):\n",
    "    mobility = google_mobility_by_country(row['iso_alpha2'])\n",
    "\n",
    "    if mobility is not None:\n",
    "        mobility['country'] = row['country']\n",
    "        data.append(mobility)\n",
    "\n",
    "pd.concat(data).groupby(['country', 'date']).first().reset_index().to_csv('../data/mobility-google.csv', index=False)"
   ]
  }
 ],
 "metadata": {
  "kernelspec": {
   "display_name": "Python 3",
   "language": "python",
   "name": "python3"
  },
  "language_info": {
   "codemirror_mode": {
    "name": "ipython",
    "version": 3
   },
   "file_extension": ".py",
   "mimetype": "text/x-python",
   "name": "python",
   "nbconvert_exporter": "python",
   "pygments_lexer": "ipython3",
   "version": "3.7.7"
  }
 },
 "nbformat": 4,
 "nbformat_minor": 4
}
